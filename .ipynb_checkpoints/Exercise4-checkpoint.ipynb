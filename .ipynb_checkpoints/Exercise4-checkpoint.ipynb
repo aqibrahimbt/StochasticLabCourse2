{
 "cells": [
  {
   "cell_type": "markdown",
   "metadata": {},
   "source": [
    "### Loading Libraries and Dependencies"
   ]
  },
  {
   "cell_type": "code",
   "execution_count": null,
   "metadata": {},
   "outputs": [],
   "source": [
    "packages = c(\"ggpubr\", \"vcd\", \"GGally\", \"xtable\")\n",
    "\n",
    "## Check to see if package is available and load else install the package and its dependencies\n",
    "package.check <- lapply(packages, FUN = function(x) {\n",
    "  if (!require(x, character.only = TRUE)) {\n",
    "    install.packages(x, dependencies = TRUE)\n",
    "    library(x, character.only = TRUE)\n",
    "  }\n",
    "})"
   ]
  },
  {
   "cell_type": "markdown",
   "metadata": {},
   "source": [
    "### Normality and Poisonness Test"
   ]
  },
  {
   "cell_type": "code",
   "execution_count": null,
   "metadata": {},
   "outputs": [],
   "source": [
    "student_mat <- read.csv('data/student-mat.csv')\n",
    "\n",
    "group1 <- data.frame(student_mat$G1, rep('G1', nrow(student)))\n",
    "colnames(group1) <- c(\"grades\", \"types\")\n",
    "group2 <- data.frame(student_mat$G2, rep('G2', nrow(student)))\n",
    "colnames(group2) <- c(\"grades\", \"types\")\n",
    "group3 <- data.frame(studstudent_matent$G3, rep('G3', nrow(student)))\n",
    "colnames(group3) <- c(\"grades\", \"types\")\n",
    "all_groups <- rbind(group1, group2, group3)"
   ]
  },
  {
   "cell_type": "code",
   "execution_count": null,
   "metadata": {},
   "outputs": [],
   "source": [
    "#Normal distributed?\n",
    "ggplot(data = all_groups, mapping = aes(sample = grades)) + \n",
    "  geom_density(aes(x = grades), fill = \"chartreuse\") +\n",
    "  facet_wrap(. ~types)"
   ]
  },
  {
   "cell_type": "code",
   "execution_count": null,
   "metadata": {},
   "outputs": [],
   "source": [
    "ggplot(data = all_groups, mapping = aes(sample = grades)) + \n",
    "  stat_qq(distribution = stats::qnorm, dparams = list(mean = mean(all_groups$grades), sd = sd(all_groups$grades))) +\n",
    "  geom_abline(alpha = 0.25) +\n",
    "  facet_wrap(. ~types)"
   ]
  },
  {
   "cell_type": "code",
   "execution_count": null,
   "metadata": {},
   "outputs": [],
   "source": [
    "#Poisson distributed?\n",
    "ggplot(data = all_groups, mapping = aes(sample = grades)) + \n",
    "  stat_qq(distribution = stats::qpois, dparams = list(lambda = mean(df0$grades))) +\n",
    "  geom_abline(alpha = 0.25) +\n",
    "  facet_wrap(. ~types)"
   ]
  },
  {
   "cell_type": "markdown",
   "metadata": {},
   "source": [
    "### Generalized Linear Model"
   ]
  },
  {
   "cell_type": "code",
   "execution_count": null,
   "metadata": {},
   "outputs": [],
   "source": [
    "model_1 <- glm(formula = G1 ~. -G2 -G3, family = poisson, data = student_mat) \n",
    "summary(model_1)"
   ]
  },
  {
   "cell_type": "code",
   "execution_count": null,
   "metadata": {},
   "outputs": [],
   "source": [
    "#Pearson residuals for model_1\n",
    "pearson.resid <- residuals(model_1, \"pearson\")\n",
    "\n",
    "#model 1 Pearson residuals Q-Q plot with normal theoretical distribution\n",
    "df <- data.frame(pearson.resid)\n",
    "\n",
    "## visualization\n",
    "ggplot(data = df, mapping = aes(sample = pearson.resid)) + \n",
    "  stat_qq(distribution = stats::qnorm, dparams = list(mean = mean(df$pearson.resid), sd = sd(df$pearson.resid))) +\n",
    "  geom_abline(alpha = 0.25) "
   ]
  },
  {
   "cell_type": "code",
   "execution_count": null,
   "metadata": {},
   "outputs": [],
   "source": [
    "## Anscombe Residuals\n",
    "anscombe.residuals <- function(y, mu){\n",
    "  (3*(y**(2/3)-mu**(2/3)))/2*(mu**(1/6))\n",
    "}\n",
    "\n",
    "\n",
    "#Anscombe residuals for model.1\n",
    "ans.resid <- anscombe.residuals(student_mat$G1, model_1$fitted.values)\n",
    "#model_1 Anscombe residuals Q-Q plot with normal theoretical distribution\n",
    "dt <- data.frame(ans.resid)\n",
    "\n",
    "ggplot(data = dt, mapping = aes(sample = ans.resid)) + \n",
    "  stat_qq(distribution = stats::qnorm, dparams = list(mean = mean(dt$ans.resid), sd = sd(dt$ans.resid))) +\n",
    "  geom_abline(alpha = 0.25)"
   ]
  },
  {
   "cell_type": "code",
   "execution_count": null,
   "metadata": {},
   "outputs": [],
   "source": [
    "#residual analysis\n",
    "par(mfrow = c(2, 2))  # Split the plotting panel into a 2 x 2 grid\n",
    "plot(model.1)"
   ]
  },
  {
   "cell_type": "code",
   "execution_count": null,
   "metadata": {},
   "outputs": [],
   "source": [
    "#Question (c)\n",
    "model.2 <- glm(formula = G1 ~ sex + Fedu + studytime + failures + schoolsup + famsup + goout , family = poisson, data = student) \n",
    "summary(model.2)\n",
    "\n",
    "#Analysis of deviance\n",
    "anova(model.2, model.1, test = \"Chisq\")\n",
    "\n",
    "#model 3 and comparison with model 2\n",
    "model.3 <- glm(formula = G1 ~ sex + Fedu + studytime + failures + schoolsup + famsup + Walc , family = poisson, data = student) \n",
    "summary(model.3)\n",
    "par(mfrow = c(2, 2))  # Split the plotting panel into a 2 x 2 grid\n",
    "plot(model.3)"
   ]
  }
 ],
 "metadata": {
  "kernelspec": {
   "display_name": "R",
   "language": "R",
   "name": "ir"
  },
  "language_info": {
   "codemirror_mode": "r",
   "file_extension": ".r",
   "mimetype": "text/x-r-source",
   "name": "R",
   "pygments_lexer": "r",
   "version": "3.5.1"
  }
 },
 "nbformat": 4,
 "nbformat_minor": 2
}
