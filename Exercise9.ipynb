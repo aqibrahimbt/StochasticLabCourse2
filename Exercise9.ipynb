{
 "cells": [
  {
   "cell_type": "code",
   "execution_count": 9,
   "metadata": {},
   "outputs": [
    {
     "name": "stderr",
     "output_type": "stream",
     "text": [
      "Loading required package: JoSAE\n",
      "Loading required package: nlme\n",
      "\n",
      "Attaching package: ‘nlme’\n",
      "\n",
      "The following object is masked from ‘package:dplyr’:\n",
      "\n",
      "    collapse\n",
      "\n"
     ]
    }
   ],
   "source": [
    "#specify the packages of interest\n",
    "options(warn=-1)\n",
    "options(repr.plot.width=6, repr.plot.height=4)\n",
    "\n",
    "packages = c(\"tidyverse\", \"JoSAE\", \"nlme\")\n",
    "\n",
    "## Check to see if package is available and load else install the package and its dependencies\n",
    "package.check <- lapply(packages, FUN = function(x) {\n",
    "  if (!require(x, character.only = TRUE)) {\n",
    "    install.packages(x, dependencies = TRUE)\n",
    "    library(x, character.only = TRUE)\n",
    "  }\n",
    "})"
   ]
  },
  {
   "cell_type": "code",
   "execution_count": 13,
   "metadata": {},
   "outputs": [],
   "source": [
    "data(landsat)\n",
    "## Select data subset\n",
    "col_subset = c(\"SegmentsInCounty\",\"SegementID\", \"HACorn\", \"HASoybeans\", \n",
    "               \"PixelsCorn\", \"PixelsSoybeans\", \"MeanPixelsCorn\", \"MeanPixelsSoybeans\", \"CountyName\")\n",
    "\n",
    "data <- landsat%>%select(col_subset)"
   ]
  },
  {
   "cell_type": "code",
   "execution_count": 20,
   "metadata": {},
   "outputs": [],
   "source": [
    "tiring=groupedData(HACorn~HASoybeans|SegmentsInCounty, data,\n",
    "                   labels=list(y=\"Test HACorn\",x=\"Testing HASoybeans\"),\n",
    "                   units=list(x=\"(points)\", y=\"(points)\"))"
   ]
  },
  {
   "cell_type": "code",
   "execution_count": 21,
   "metadata": {},
   "outputs": [
    {
     "data": {
      "text/plain": [
       "Call:\n",
       "  Model: HACorn ~ HASoybeans | SegmentsInCounty \n",
       "   Data: tiring \n",
       "\n",
       "Coefficients:\n",
       "    (Intercept) HASoybeans\n",
       "394    76.08000         NA\n",
       "566    96.32000         NA\n",
       "965    81.94373  0.2402182\n",
       "569   199.53046 -0.7673646\n",
       "402   242.49061 -1.4645184\n",
       "687   136.24154 -0.1650428\n",
       "570   195.76896 -0.7855792\n",
       "564   176.81301 -0.3466461\n",
       "556   128.69349 -0.1546534\n",
       "545   165.76000         NA\n",
       "424   193.12528 -1.2017437\n",
       "567   245.75260 -1.0373817\n",
       "\n",
       "Degrees of freedom: 37 total; 13 residual\n",
       "Residual standard error: 28.01733"
      ]
     },
     "metadata": {},
     "output_type": "display_data"
    }
   ],
   "source": [
    "lmList(tiring)"
   ]
  },
  {
   "cell_type": "code",
   "execution_count": 18,
   "metadata": {},
   "outputs": [
    {
     "data": {
      "text/plain": [
       "Call:\n",
       "  Model: HACorn ~ HASoybeans | SegmentsInCounty \n",
       "   Data: landsat \n",
       "\n",
       "Coefficients:\n",
       "    (Intercept) HASoybeans\n",
       "394    76.08000         NA\n",
       "402   242.49061 -1.4645184\n",
       "424   193.12528 -1.2017437\n",
       "545   165.76000         NA\n",
       "556   128.69349 -0.1546534\n",
       "564   176.81301 -0.3466461\n",
       "566    96.32000         NA\n",
       "567   245.75260 -1.0373817\n",
       "569   199.53046 -0.7673646\n",
       "570   195.76896 -0.7855792\n",
       "687   136.24154 -0.1650428\n",
       "965    81.94373  0.2402182\n",
       "\n",
       "Degrees of freedom: 37 total; 13 residual\n",
       "Residual standard error: 28.01733"
      ]
     },
     "metadata": {},
     "output_type": "display_data"
    }
   ],
   "source": [
    "lmList(HACorn ~ HASoybeans | SegmentsInCounty, data=landsat)"
   ]
  },
  {
   "cell_type": "code",
   "execution_count": 8,
   "metadata": {},
   "outputs": [
    {
     "name": "stderr",
     "output_type": "stream",
     "text": [
      "Updating HTML index of packages in '.Library'\n",
      "Making 'packages.html' ... done\n"
     ]
    }
   ],
   "source": [
    "install.packages(\"JoSAE\")"
   ]
  },
  {
   "cell_type": "code",
   "execution_count": null,
   "metadata": {},
   "outputs": [],
   "source": []
  }
 ],
 "metadata": {
  "kernelspec": {
   "display_name": "R",
   "language": "R",
   "name": "ir"
  },
  "language_info": {
   "codemirror_mode": "r",
   "file_extension": ".r",
   "mimetype": "text/x-r-source",
   "name": "R",
   "pygments_lexer": "r",
   "version": "3.5.1"
  }
 },
 "nbformat": 4,
 "nbformat_minor": 2
}
