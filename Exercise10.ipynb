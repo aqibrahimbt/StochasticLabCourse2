{
 "cells": [
  {
   "cell_type": "code",
   "execution_count": 2,
   "metadata": {},
   "outputs": [
    {
     "name": "stderr",
     "output_type": "stream",
     "text": [
      "Loading required package: Matrix\n"
     ]
    }
   ],
   "source": [
    "#specify the packages of interest\n",
    "options(warn=-1)\n",
    "options(repr.plot.width=6, repr.plot.height=4)\n",
    "\n",
    "packages = c(\"Matrix\")\n",
    "\n",
    "## Check to see if package is available and load else install the package and its dependencies\n",
    "package.check <- lapply(packages, FUN = function(x) {\n",
    "  if (!require(x, character.only = TRUE)) {\n",
    "    install.packages(x, dependencies = TRUE)\n",
    "    library(x, character.only = TRUE)\n",
    "  }\n",
    "})"
   ]
  },
  {
   "cell_type": "code",
   "execution_count": 8,
   "metadata": {},
   "outputs": [],
   "source": [
    "# Read in files (provide a full path, e.g. \"~/Desktop/sample_dataset/users-likes.csv\")\n",
    "\n",
    "users <- read.csv(\"data/sample_dataset/users.csv\")\n",
    "likes <- read.csv(\"data/sample_dataset/likes.csv\")\n",
    "ul <- read.csv(\"data/sample_dataset/users-likes.csv\") \n",
    "\n",
    "# Match entries in ul with users and likes dictionaries\n",
    "ul$user_row<-match(ul$userid,users$userid)\n",
    "ul$like_row<-match(ul$likeid,likes$likeid)"
   ]
  },
  {
   "cell_type": "code",
   "execution_count": 9,
   "metadata": {},
   "outputs": [],
   "source": [
    "# Construct the sparse User-Like Matrix M\n",
    "M <- sparseMatrix(i = ul$user_row, j = ul$like_row, x = 1)\n",
    "\n",
    "# Save user IDs as row names in M\n",
    "rownames(M) <- users$userid\n",
    "    \n",
    "# Save Like names as column names in M\n",
    "colnames(M) <- likes$name\n",
    "    \n",
    "# Remove ul and likes objects (they won't be needed)\n",
    "rm(ul, likes)"
   ]
  },
  {
   "cell_type": "code",
   "execution_count": 11,
   "metadata": {},
   "outputs": [
    {
     "data": {
      "text/html": [
       "<ol class=list-inline>\n",
       "\t<li>7258</li>\n",
       "\t<li>11017</li>\n",
       "</ol>\n"
      ],
      "text/latex": [
       "\\begin{enumerate*}\n",
       "\\item 7258\n",
       "\\item 11017\n",
       "\\end{enumerate*}\n"
      ],
      "text/markdown": [
       "1. 7258\n",
       "2. 11017\n",
       "\n",
       "\n"
      ],
      "text/plain": [
       "[1]  7258 11017"
      ]
     },
     "metadata": {},
     "output_type": "display_data"
    },
    {
     "data": {
      "text/html": [
       "<ol class=list-inline>\n",
       "\t<li>7258</li>\n",
       "\t<li>9</li>\n",
       "</ol>\n"
      ],
      "text/latex": [
       "\\begin{enumerate*}\n",
       "\\item 7258\n",
       "\\item 9\n",
       "\\end{enumerate*}\n"
      ],
      "text/markdown": [
       "1. 7258\n",
       "2. 9\n",
       "\n",
       "\n"
      ],
      "text/plain": [
       "[1] 7258    9"
      ]
     },
     "metadata": {},
     "output_type": "display_data"
    }
   ],
   "source": [
    "# Remove users/Likes occurring less than 150/80 times\n",
    " \n",
    "repeat {                                       # repeat whatever is in the brackets\n",
    "  i <- sum(dim(M))                             # check the size of M\n",
    "  M <- M[rowSums(M) >= 150, colSums(M) >= 80]  # Retain only these rows/columns that meet the threshold\n",
    "  if (sum(dim(M)) == i) break                  # if the size has not changed, break the loop\n",
    "  }\n",
    "\n",
    "# Check the new size of M\n",
    "dim(M)\n",
    "\n",
    "# Remove the users from users object that were removed\n",
    "# from M\n",
    "users <- users[match(rownames(M), users$userid), ]\n",
    "\n",
    "# Check the new size of users\n",
    "dim(users)"
   ]
  },
  {
   "cell_type": "code",
   "execution_count": 15,
   "metadata": {},
   "outputs": [],
   "source": [
    "set.seed(1122)\n",
    "\n",
    "n <- nrow(users)\n",
    "shuffled_df <- users[sample(n), ]\n",
    "train_indices <- 1:round(0.6 * n)\n",
    "train <- shuffled_df[train_indices, ]\n",
    "test_indices <- (round(0.6 * n) + 1):n\n",
    "test <- shuffled_df[test_indices, ]"
   ]
  },
  {
   "cell_type": "code",
   "execution_count": 14,
   "metadata": {},
   "outputs": [
    {
     "data": {
      "text/html": [
       "<ol class=list-inline>\n",
       "\t<li>'userid'</li>\n",
       "\t<li>'gender'</li>\n",
       "\t<li>'age'</li>\n",
       "\t<li>'political'</li>\n",
       "\t<li>'ope'</li>\n",
       "\t<li>'con'</li>\n",
       "\t<li>'ext'</li>\n",
       "\t<li>'agr'</li>\n",
       "\t<li>'neu'</li>\n",
       "</ol>\n"
      ],
      "text/latex": [
       "\\begin{enumerate*}\n",
       "\\item 'userid'\n",
       "\\item 'gender'\n",
       "\\item 'age'\n",
       "\\item 'political'\n",
       "\\item 'ope'\n",
       "\\item 'con'\n",
       "\\item 'ext'\n",
       "\\item 'agr'\n",
       "\\item 'neu'\n",
       "\\end{enumerate*}\n"
      ],
      "text/markdown": [
       "1. 'userid'\n",
       "2. 'gender'\n",
       "3. 'age'\n",
       "4. 'political'\n",
       "5. 'ope'\n",
       "6. 'con'\n",
       "7. 'ext'\n",
       "8. 'agr'\n",
       "9. 'neu'\n",
       "\n",
       "\n"
      ],
      "text/plain": [
       "[1] \"userid\"    \"gender\"    \"age\"       \"political\" \"ope\"       \"con\"      \n",
       "[7] \"ext\"       \"agr\"       \"neu\"      "
      ]
     },
     "metadata": {},
     "output_type": "display_data"
    }
   ],
   "source": [
    "names(users)"
   ]
  },
  {
   "cell_type": "code",
   "execution_count": null,
   "metadata": {},
   "outputs": [],
   "source": []
  }
 ],
 "metadata": {
  "kernelspec": {
   "display_name": "R",
   "language": "R",
   "name": "ir"
  },
  "language_info": {
   "codemirror_mode": "r",
   "file_extension": ".r",
   "mimetype": "text/x-r-source",
   "name": "R",
   "pygments_lexer": "r",
   "version": "3.5.1"
  }
 },
 "nbformat": 4,
 "nbformat_minor": 2
}
