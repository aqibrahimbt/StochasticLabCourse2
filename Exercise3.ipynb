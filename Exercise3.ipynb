{
 "cells": [
  {
   "cell_type": "markdown",
   "metadata": {},
   "source": [
    "## Loading Libraries and Dependencies"
   ]
  },
  {
   "cell_type": "code",
   "execution_count": 11,
   "metadata": {},
   "outputs": [],
   "source": [
    "options(repr.plot.width=6, repr.plot.height=4)\n",
    "packages = c(\"tidyverse\", \"bootstrap\")\n",
    "\n",
    "## Check to see if package is available and load else install the package and its dependencies\n",
    "package.check <- lapply(packages, FUN = function(x) {\n",
    "  if (!require(x, character.only = TRUE)) {\n",
    "    install.packages(x, dependencies = TRUE)\n",
    "    library(x, character.only = TRUE)\n",
    "  }\n",
    "})"
   ]
  },
  {
   "cell_type": "markdown",
   "metadata": {},
   "source": [
    "### Setup and Computations "
   ]
  },
  {
   "cell_type": "code",
   "execution_count": 12,
   "metadata": {},
   "outputs": [
    {
     "data": {
      "text/html": [
       "<ol class=list-inline>\n",
       "\t<li>15.0834279040149</li>\n",
       "\t<li>10.5842882075249</li>\n",
       "</ol>\n"
      ],
      "text/latex": [
       "\\begin{enumerate*}\n",
       "\\item 15.0834279040149\n",
       "\\item 10.5842882075249\n",
       "\\end{enumerate*}\n"
      ],
      "text/markdown": [
       "1. 15.0834279040149\n",
       "2. 10.5842882075249\n",
       "\n",
       "\n"
      ],
      "text/plain": [
       "[1] 15.08343 10.58429"
      ]
     },
     "metadata": {},
     "output_type": "display_data"
    }
   ],
   "source": [
    "set.seed(5^13)\n",
    "\n",
    "## Load Dataset\n",
    "shhs1 <- read.csv('data/shhs1.txt', sep = '\\t')\n",
    "\n",
    "M <- 1000       #Monte Carlo samples \n",
    "alpha <- 0.95   #Confidence level\n",
    "\n",
    "## Parameters for the weibull distribution\n",
    "lambda <- 13\n",
    "k <- 1          #shape parameter\n",
    "\n",
    "x = rweibull(n, shape = k, scale = lambda)\n",
    "sigma = sd(x)\n",
    "xmed = median(x)\n",
    "c(sigma, xmed)"
   ]
  },
  {
   "cell_type": "markdown",
   "metadata": {},
   "source": [
    "### Bootstrap Percentil CI and Coverage Probability"
   ]
  },
  {
   "cell_type": "markdown",
   "metadata": {},
   "source": [
    "#### 1. Bootstrap Percentile CI and Coverage Probability (n=100, R=1000)"
   ]
  },
  {
   "cell_type": "code",
   "execution_count": 13,
   "metadata": {},
   "outputs": [
    {
     "data": {
      "text/html": [
       "<ol class=list-inline>\n",
       "\t<li>0.783</li>\n",
       "\t<li>0.578</li>\n",
       "\t<li>5.06782623144689</li>\n",
       "\t<li>6.07791155908178</li>\n",
       "</ol>\n"
      ],
      "text/latex": [
       "\\begin{enumerate*}\n",
       "\\item 0.783\n",
       "\\item 0.578\n",
       "\\item 5.06782623144689\n",
       "\\item 6.07791155908178\n",
       "\\end{enumerate*}\n"
      ],
      "text/markdown": [
       "1. 0.783\n",
       "2. 0.578\n",
       "3. 5.06782623144689\n",
       "4. 6.07791155908178\n",
       "\n",
       "\n"
      ],
      "text/plain": [
       "[1] 0.783000 0.578000 5.067826 6.077912"
      ]
     },
     "metadata": {},
     "output_type": "display_data"
    }
   ],
   "source": [
    "n <- 100        #Sample size \n",
    "R <- 1000       #Bootstrap replications\n",
    "\n",
    "#Two-sided bootstrap percentile confidence intervals for sigma and x_med\n",
    "is_median <- 0\n",
    "is_sd <- 0\n",
    "\n",
    "\n",
    "CI_MED_left <- 0\n",
    "CI_MED_right <- 0\n",
    "CI_SD_left <- 0\n",
    "CI_SD_right <- 0\n",
    "\n",
    "for (j in 1:M) {\n",
    "  weibull_samples <- rweibull(n, k, lambda)\n",
    "  MED <- 0\n",
    "  SD <- 0\n",
    "  for (i in 1:R) {\n",
    "    bootstrap_values <- sample(weibull_samples, n, replace = T)\n",
    "    MED[i] <- median(bootstrap_values)\n",
    "    SD[i] <- sd(bootstrap_values)\n",
    "  }\n",
    "  \n",
    "  MED <- sort(MED)\n",
    "  SD <- sort(SD)\n",
    "  \n",
    "  CI_MED_left[j] <- MED[floor(R * (1-alpha))/2]\n",
    "  CI_MED_right[j] <- MED[floor(R * (1-(1-alpha)/2))]\n",
    "  CI_SD_left[j] <- SD[floor(R * (1-alpha))/2]\n",
    "  CI_SD_right[j] <- SD[floor(R * (1-(1-alpha)/2))]\n",
    "    \n",
    "  CIs <- data.frame(CI_MED_left, CI_MED_right, CI_SD_left, CI_SD_right)\n",
    "    \n",
    "}\n",
    "\n",
    "CIs <- CIs %>% \n",
    "  mutate(is_median = xmed >= CI_MED_left & xmed <= CI_MED_right)\n",
    "\n",
    "CIs <- CIs %>% \n",
    "  mutate(is_sd = sigma >= CI_SD_left & sigma <= CI_SD_right)\n",
    "\n",
    "## Coverage probability\n",
    "coverage_prob <- c(sum(CIs$is_median)/ M, sum(CIs$is_sd)/M)\n",
    "\n",
    "## Average interval length\n",
    "average_interval_length <- c(sum(CIs$CI_MED_right - CIs$CI_MED_left)/nrow(CIs), \n",
    "                             sum(CIs$CI_SD_right - CIs$CI_SD_left)/nrow(CIs))\n",
    "\n",
    "c(coverage_prob, average_interval_length)"
   ]
  },
  {
   "cell_type": "markdown",
   "metadata": {},
   "source": [
    "#### 2. Bootstrap Percentile CI and Coverage Probability (n=R=1000)"
   ]
  },
  {
   "cell_type": "code",
   "execution_count": 14,
   "metadata": {},
   "outputs": [
    {
     "data": {
      "text/html": [
       "<ol class=list-inline>\n",
       "\t<li>0.041</li>\n",
       "\t<li>0.081</li>\n",
       "\t<li>1.62023353982528</li>\n",
       "\t<li>2.20245883978562</li>\n",
       "</ol>\n"
      ],
      "text/latex": [
       "\\begin{enumerate*}\n",
       "\\item 0.041\n",
       "\\item 0.081\n",
       "\\item 1.62023353982528\n",
       "\\item 2.20245883978562\n",
       "\\end{enumerate*}\n"
      ],
      "text/markdown": [
       "1. 0.041\n",
       "2. 0.081\n",
       "3. 1.62023353982528\n",
       "4. 2.20245883978562\n",
       "\n",
       "\n"
      ],
      "text/plain": [
       "[1] 0.041000 0.081000 1.620234 2.202459"
      ]
     },
     "metadata": {},
     "output_type": "display_data"
    }
   ],
   "source": [
    "n <- 1000        #Sample size \n",
    "R <- 1000       #Bootstrap replications\n",
    "\n",
    "#Two-sided bootstrap percentile confidence intervals for sigma and x_med\n",
    "is_median <- 0\n",
    "is_sd <- 0\n",
    "\n",
    "\n",
    "CI_MED_left <- 0\n",
    "CI_MED_right <- 0\n",
    "CI_SD_left <- 0\n",
    "CI_SD_right <- 0\n",
    "\n",
    "for (j in 1:M) {\n",
    "  weibull_samples <- rweibull(n, k, lambda)\n",
    "  MED <- 0\n",
    "  SD <- 0\n",
    "  for (i in 1:R) {\n",
    "    bootstrap_values <- sample(weibull_samples, n, replace = T)\n",
    "    MED[i] <- median(bootstrap_values)\n",
    "    SD[i] <- sd(bootstrap_values)\n",
    "  }\n",
    "  \n",
    "  MED <- sort(MED)\n",
    "  SD <- sort(SD)\n",
    "  \n",
    "  CI_MED_left[j] <- MED[floor(R * (1-alpha))/2]\n",
    "  CI_MED_right[j] <- MED[floor(R * (1-(1-alpha)/2))]\n",
    "  CI_SD_left[j] <- SD[floor(R * (1-alpha))/2]\n",
    "  CI_SD_right[j] <- SD[floor(R * (1-(1-alpha)/2))]\n",
    "    \n",
    "  CIs <- data.frame(CI_MED_left, CI_MED_right, CI_SD_left, CI_SD_right)\n",
    "    \n",
    "}\n",
    "\n",
    "CIs <- CIs %>% \n",
    "  mutate(is_median = xmed >= CI_MED_left & xmed <= CI_MED_right)\n",
    "\n",
    "CIs <- CIs %>% \n",
    "  mutate(is_sd = sigma >= CI_SD_left & sigma <= CI_SD_right)\n",
    "\n",
    "## Coverage probability\n",
    "coverage_prob <- c(sum(CIs$is_median)/ M, sum(CIs$is_sd)/M)\n",
    "\n",
    "## Average interval length\n",
    "average_interval_length <- c(sum(CIs$CI_MED_right - CIs$CI_MED_left)/nrow(CIs), \n",
    "                             sum(CIs$CI_SD_right - CIs$CI_SD_left)/nrow(CIs))\n",
    "\n",
    "c(coverage_prob, average_interval_length)"
   ]
  },
  {
   "cell_type": "markdown",
   "metadata": {},
   "source": [
    "#### 3. Bootstrap Percentile CI and Coverage Probability (n=100, R=5000)"
   ]
  },
  {
   "cell_type": "code",
   "execution_count": 15,
   "metadata": {},
   "outputs": [
    {
     "data": {
      "text/html": [
       "<ol class=list-inline>\n",
       "\t<li>0.819</li>\n",
       "\t<li>0.574</li>\n",
       "\t<li>5.11356487389085</li>\n",
       "\t<li>6.07919920433681</li>\n",
       "</ol>\n"
      ],
      "text/latex": [
       "\\begin{enumerate*}\n",
       "\\item 0.819\n",
       "\\item 0.574\n",
       "\\item 5.11356487389085\n",
       "\\item 6.07919920433681\n",
       "\\end{enumerate*}\n"
      ],
      "text/markdown": [
       "1. 0.819\n",
       "2. 0.574\n",
       "3. 5.11356487389085\n",
       "4. 6.07919920433681\n",
       "\n",
       "\n"
      ],
      "text/plain": [
       "[1] 0.819000 0.574000 5.113565 6.079199"
      ]
     },
     "metadata": {},
     "output_type": "display_data"
    }
   ],
   "source": [
    "n <- 100        #Sample size \n",
    "R <- 5000       #Bootstrap replications\n",
    "\n",
    "#Two-sided bootstrap percentile confidence intervals for sigma and x_med\n",
    "is_median <- 0\n",
    "is_sd <- 0\n",
    "\n",
    "\n",
    "CI_MED_left <- 0\n",
    "CI_MED_right <- 0\n",
    "CI_SD_left <- 0\n",
    "CI_SD_right <- 0\n",
    "\n",
    "for (j in 1:M) {\n",
    "  weibull_samples <- rweibull(n, k, lambda)\n",
    "  MED <- 0\n",
    "  SD <- 0\n",
    "  for (i in 1:R) {\n",
    "    bootstrap_values <- sample(weibull_samples, n, replace = T)\n",
    "    MED[i] <- median(bootstrap_values)\n",
    "    SD[i] <- sd(bootstrap_values)\n",
    "  }\n",
    "  \n",
    "  MED <- sort(MED)\n",
    "  SD <- sort(SD)\n",
    "  \n",
    "  CI_MED_left[j] <- MED[floor(R * (1-alpha))/2]\n",
    "  CI_MED_right[j] <- MED[floor(R * (1-(1-alpha)/2))]\n",
    "  CI_SD_left[j] <- SD[floor(R * (1-alpha))/2]\n",
    "  CI_SD_right[j] <- SD[floor(R * (1-(1-alpha)/2))]\n",
    "    \n",
    "  CIs <- data.frame(CI_MED_left, CI_MED_right, CI_SD_left, CI_SD_right)\n",
    "    \n",
    "}\n",
    "\n",
    "CIs <- CIs %>% \n",
    "  mutate(is_median = xmed >= CI_MED_left & xmed <= CI_MED_right)\n",
    "\n",
    "CIs <- CIs %>% \n",
    "  mutate(is_sd = sigma >= CI_SD_left & sigma <= CI_SD_right)\n",
    "\n",
    "## Coverage probability\n",
    "coverage_prob <- c(sum(CIs$is_median)/ M, sum(CIs$is_sd)/M)\n",
    "\n",
    "## Average interval length\n",
    "average_interval_length <- c(sum(CIs$CI_MED_right - CIs$CI_MED_left)/nrow(CIs), \n",
    "                             sum(CIs$CI_SD_right - CIs$CI_SD_left)/nrow(CIs))\n",
    "\n",
    "c(coverage_prob, average_interval_length)"
   ]
  },
  {
   "cell_type": "markdown",
   "metadata": {},
   "source": [
    "### Bootstrap Accelerated Bias-Corrected Interval"
   ]
  },
  {
   "cell_type": "markdown",
   "metadata": {},
   "source": [
    "#### 1. Using the Median"
   ]
  },
  {
   "cell_type": "code",
   "execution_count": 16,
   "metadata": {},
   "outputs": [
    {
     "ename": "ERROR",
     "evalue": "Error in rweibull(100, k, l): object 'l' not found\n",
     "output_type": "error",
     "traceback": [
      "Error in rweibull(100, k, l): object 'l' not found\nTraceback:\n",
      "1. rweibull(100, k, l)"
     ]
    }
   ],
   "source": [
    "CI_MED_left <- rep(0, M)\n",
    "CI_MED_right <- rep(0, M)\n",
    "z_MED <- 0\n",
    "a.0_MED <- 0\n",
    "\n",
    "for (j in 1:M) {\n",
    "  weibull_samples <- rweibull(100, k, l)\n",
    "  A <- bcanon(weibull_samples, R, theta = median, alpha = c(0.025, 0.975))\n",
    "  z_MED[j] <- A$z0\n",
    "  a.0_MED[j] <- A$acc\n",
    "  CI_MED_left[j] <- A$confpoints[1,2]\n",
    "  CI_MED_right[j] <- A$confpoints[2,2]\n",
    "}\n",
    "\n",
    "df_bca_point_MED <- data.frame(CI_MED_left, CI_MED_right)\n",
    "\n",
    "df_bca_point_MED <- df_bca_point_MED %>% \n",
    "  mutate(is_median = xmed >= CI_MED_left & xmed <= CI_MED_right)"
   ]
  },
  {
   "cell_type": "markdown",
   "metadata": {},
   "source": [
    "#### 2. Using the Standard Deviation"
   ]
  },
  {
   "cell_type": "code",
   "execution_count": null,
   "metadata": {},
   "outputs": [],
   "source": [
    "CI_SD_left <- 0\n",
    "CI_SD_right <- 0\n",
    "z_SD <- 0\n",
    "a.0_SD <- 0\n",
    "for (j in 1:M) {\n",
    "  sample_weibull <- rweibull(100, k, l)\n",
    "  A <- bcanon(sample_weibull, R, theta = sd, alpha = c(0.025, 0.975))\n",
    "  z_SD[j] <- A$z0\n",
    "  a.0_SD[j] <- A$acc\n",
    "  CI_SD_left[j] <- A$confpoints[1,2]\n",
    "  CI_SD_right[j] <- A$confpoints[2,2]\n",
    "}\n",
    "\n",
    "df_bca_point_SD <- data.frame(CI_SD_left, CI_SD_right)\n",
    "\n",
    "df_bca_point_SD <- df_bca_point_SD %>% \n",
    "  mutate(is_sd = sigma >= CI_SD_left & sigma <= CI_SD_right)"
   ]
  },
  {
   "cell_type": "markdown",
   "metadata": {},
   "source": [
    "#### 3. Summary Statistics"
   ]
  },
  {
   "cell_type": "code",
   "execution_count": null,
   "metadata": {},
   "outputs": [],
   "source": [
    "## Aggregate computed statistics into dataframe\n",
    "estim <-  data.frame(z_SD, a.0_SD, z_MED, a.0_MED)\n",
    "statistics <- data.frame(df_bca_point_MED, df_bca_point_SD) \n",
    "\n",
    "## Coverage Probability\n",
    "coverage_prob <- c(sum(statistics$is_median)/M, sum(statistics$is_sd)/M)\n",
    "\n",
    "#Average interval length\n",
    "average_interval_length <- c(sum(statistics$CI_MED_right - statistics$CI_MED_left)/nrow(statistics), \n",
    "                             sum(statistics$CI_SD_right - statistics$CI_SD_left)/nrow(statistics))\n",
    "\n",
    "c(mean(z_SD),mean(a.0_SD), mean(z_MED), mean(a.0_MED))"
   ]
  },
  {
   "cell_type": "markdown",
   "metadata": {},
   "source": [
    "### Analysis of Respiratory Disturbance Index"
   ]
  },
  {
   "cell_type": "code",
   "execution_count": 10,
   "metadata": {},
   "outputs": [
    {
     "name": "stderr",
     "output_type": "stream",
     "text": [
      "`stat_bin()` using `bins = 30`. Pick better value with `binwidth`.\n"
     ]
    },
    {
     "data": {},
     "metadata": {},
     "output_type": "display_data"
    },
    {
     "data": {
      "image/png": "[encoded data removed]",
      "text/plain": [
       "plot without title"
      ]
     },
     "metadata": {},
     "output_type": "display_data"
    }
   ],
   "source": [
    "#histogram and empirical distribution of the variable rdi4p\n",
    "ggplot(shhs1, aes(x = rdi4p, y = ..density..)) +\n",
    "  geom_histogram(color = 'white') +\n",
    "  geom_density(aes(x = rdi4p), colour = \"blue\") + labs(title = \"histogram and empirical distribution of the variable rdi4p\",\n",
    "                                                        x = \"Sample\",y = \"Relative Frequency\", colour = \"Method\") + theme_classic()\n"
   ]
  },
  {
   "cell_type": "code",
   "execution_count": null,
   "metadata": {},
   "outputs": [],
   "source": [
    "#bootstrap percentile (two-sided) confidence intervals for the standard deviation and median\n",
    "rdi4p.med <- median(shhs1$rdi4p)\n",
    "rdi4p.sigma <- sd(shhs1$rdi4p)\n",
    "alpha <- 0.95\n",
    "\n",
    "n <- length(shhs1$rdi4p) #sample size\n",
    "R <- 1000 #number of bootstraps replicantions\n",
    "\n",
    "MED <- 0\n",
    "SD <- 0\n",
    "for (i in 1:R) {\n",
    "  bootstrap_values <- sample(shhs1$rdi4p, n, replace = T)\n",
    "  MED[i] <- median(bootstrap_values)\n",
    "  SD[i] <- sd(myBootbootstrap_valuesstrap)\n",
    "}\n",
    "\n",
    "MED <- sort(MED)\n",
    "SD <- sort(SD)\n",
    "CI_MED_left <- MED[floor(R *(1-alpha))/2]\n",
    "CI_MED_right <- MED[floor(R *(1-(1-alpha)/2))]\n",
    "CI_SD_left <- SD[floor(R *(1-alpha))/2]\n",
    "CI_SD_right <- SD[floor(R *(1-(1-alpha)/2))]\n",
    "\n",
    "boostrap_percentile_CI <- data.frame(CI_MED_left, CI_MED_right, CI_SD_left, CI_SD_right)\n",
    "is_median <- rdi4p.med >= CI_MED_left & rdi4p.med <= CI_MED_right\n",
    "is_sd <- rdi4p.sigma >= CI_SD_left & rdi4p.sigma <= CI_SD_right"
   ]
  },
  {
   "cell_type": "code",
   "execution_count": null,
   "metadata": {},
   "outputs": [],
   "source": [
    "#Bootstrap accelerated bias-corrected confidence intervals \n",
    "\n",
    "# Median\n",
    "rdi4p.median.rem <- shhs1$rdi4p [! shhs1$rdi4p %in% median(shhs1$rdi4p)]\n",
    "A <- bcanon(rdi4p.median.rem, R, theta = median, alpha = c(0.025, 0.975))\n",
    "z_MED <- A$z0\n",
    "a.0_MED <- A$acc\n",
    "CI_MED_left <- A$confpoints[1,2]\n",
    "CI_MED_right <- A$confpoints[2,2]\n",
    "\n",
    "is_median_A = rdi4p.med >= CI_MED_left & rdi4p.med <= CI_MED_right"
   ]
  },
  {
   "cell_type": "code",
   "execution_count": null,
   "metadata": {},
   "outputs": [],
   "source": [
    "# Standard deviation\n",
    "A <- bcanon(shhs1$rdi4p, R, theta = sd, alpha = c(0.025, 0.975))\n",
    "z_SD <- A$z0\n",
    "a.0_SD <- A$acc\n",
    "CI_SD_left <- A$confpoints[1,2]\n",
    "CI_SD_right <- A$confpoints[2,2]\n",
    "\n",
    "is_sd_A = rdi4p.sigma >= CI_SD_left & rdi4p.sigma <= CI_SD_right\n",
    "\n",
    "BCa_CI <- data.frame(CI_MED_left, CI_MED_right, CI_SD_left, CI_SD_right, z_MED, a.0_MED, z_SD, a.0_SD)"
   ]
  }
 ],
 "metadata": {
  "kernelspec": {
   "display_name": "R",
   "language": "R",
   "name": "ir"
  },
  "language_info": {
   "codemirror_mode": "r",
   "file_extension": ".r",
   "mimetype": "text/x-r-source",
   "name": "R",
   "pygments_lexer": "r",
   "version": "3.5.1"
  }
 },
 "nbformat": 4,
 "nbformat_minor": 2
}
